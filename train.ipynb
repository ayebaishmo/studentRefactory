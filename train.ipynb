{
 "cells": [
  {
   "cell_type": "code",
   "execution_count": 8,
   "id": "f8369b1a",
   "metadata": {},
   "outputs": [],
   "source": [
    "# Load data\n",
    "import pandas as pd \n",
    "demographic_df = pd.read_csv('data/demographics.csv')\n",
    "academic_df = pd.read_csv('data/academicPerformance.csv')\n",
    "activities_df = pd.read_csv('data/extracurricularActivities.csv')\n",
    "behavior_df = pd.read_csv('data/behavioralPatterns.csv')\n"
   ]
  },
  {
   "cell_type": "code",
   "execution_count": 9,
   "id": "29149132",
   "metadata": {},
   "outputs": [],
   "source": [
    "# Rename ID columns to StudentID for consistency\n",
    "demographic_df.rename(columns={'ID': 'StudentID'}, inplace=True)\n",
    "academic_df.rename(columns={'Student ID': 'StudentID'}, inplace=True)"
   ]
  },
  {
   "cell_type": "code",
   "execution_count": 10,
   "id": "7f2ea96f",
   "metadata": {},
   "outputs": [],
   "source": [
    "merged_df = demographic_df.merge(academic_df, on='StudentID') \\\n",
    "                          .merge(activities_df, on='StudentID') \\\n",
    "                          .merge(behavior_df, on='StudentID')"
   ]
  },
  {
   "cell_type": "code",
   "execution_count": 11,
   "id": "c5f1e734",
   "metadata": {},
   "outputs": [],
   "source": [
    "# Create performance score\n",
    "merged_df[\"PerformanceScore\"] = (\n",
    "    merged_df[\"Attendance %\"] * 0.3 +\n",
    "    merged_df[\"Completed Assignments\"] * 0.4 +\n",
    "    merged_df[\"Time Spent On Materials (Hours)\"] * 0.2 +\n",
    "    merged_df[\"Forum Posts\"] * 0.1\n",
    ")"
   ]
  },
  {
   "cell_type": "code",
   "execution_count": 12,
   "id": "9a49aac8",
   "metadata": {},
   "outputs": [
    {
     "data": {
      "text/html": [
       "<div>\n",
       "<style scoped>\n",
       "    .dataframe tbody tr th:only-of-type {\n",
       "        vertical-align: middle;\n",
       "    }\n",
       "\n",
       "    .dataframe tbody tr th {\n",
       "        vertical-align: top;\n",
       "    }\n",
       "\n",
       "    .dataframe thead th {\n",
       "        text-align: right;\n",
       "    }\n",
       "</style>\n",
       "<table border=\"1\" class=\"dataframe\">\n",
       "  <thead>\n",
       "    <tr style=\"text-align: right;\">\n",
       "      <th></th>\n",
       "      <th>StudentID</th>\n",
       "      <th>Age</th>\n",
       "      <th>Marital Status</th>\n",
       "      <th>Employment Status</th>\n",
       "      <th>Gender</th>\n",
       "      <th>Socioeconomic Status</th>\n",
       "      <th>Income Level</th>\n",
       "      <th>Location</th>\n",
       "      <th>District</th>\n",
       "      <th>Education Level</th>\n",
       "      <th>...</th>\n",
       "      <th>Role</th>\n",
       "      <th>Start Date</th>\n",
       "      <th>End Date</th>\n",
       "      <th>Date</th>\n",
       "      <th>Time Spent On Materials (Hours)</th>\n",
       "      <th>Forum Posts</th>\n",
       "      <th>Instructor Messages</th>\n",
       "      <th>Completed Assignments</th>\n",
       "      <th>Time Spent On Forum (Hours)</th>\n",
       "      <th>PerformanceScore</th>\n",
       "    </tr>\n",
       "  </thead>\n",
       "  <tbody>\n",
       "    <tr>\n",
       "      <th>0</th>\n",
       "      <td>S001</td>\n",
       "      <td>22</td>\n",
       "      <td>Single</td>\n",
       "      <td>Part-time</td>\n",
       "      <td>Female</td>\n",
       "      <td>Middle</td>\n",
       "      <td>25000</td>\n",
       "      <td>Urban</td>\n",
       "      <td>Kampala</td>\n",
       "      <td>Undergraduate</td>\n",
       "      <td>...</td>\n",
       "      <td>Player</td>\n",
       "      <td>2023-09-01</td>\n",
       "      <td>2024-06-30</td>\n",
       "      <td>2025-03-01</td>\n",
       "      <td>2.5</td>\n",
       "      <td>3</td>\n",
       "      <td>2</td>\n",
       "      <td>2</td>\n",
       "      <td>0.5</td>\n",
       "      <td>30.1</td>\n",
       "    </tr>\n",
       "    <tr>\n",
       "      <th>1</th>\n",
       "      <td>S001</td>\n",
       "      <td>22</td>\n",
       "      <td>Single</td>\n",
       "      <td>Part-time</td>\n",
       "      <td>Female</td>\n",
       "      <td>Middle</td>\n",
       "      <td>25000</td>\n",
       "      <td>Urban</td>\n",
       "      <td>Kampala</td>\n",
       "      <td>Undergraduate</td>\n",
       "      <td>...</td>\n",
       "      <td>Player</td>\n",
       "      <td>2023-09-01</td>\n",
       "      <td>2024-06-30</td>\n",
       "      <td>2025-03-02</td>\n",
       "      <td>2.0</td>\n",
       "      <td>2</td>\n",
       "      <td>1</td>\n",
       "      <td>2</td>\n",
       "      <td>0.3</td>\n",
       "      <td>29.9</td>\n",
       "    </tr>\n",
       "    <tr>\n",
       "      <th>2</th>\n",
       "      <td>S001</td>\n",
       "      <td>22</td>\n",
       "      <td>Single</td>\n",
       "      <td>Part-time</td>\n",
       "      <td>Female</td>\n",
       "      <td>Middle</td>\n",
       "      <td>25000</td>\n",
       "      <td>Urban</td>\n",
       "      <td>Kampala</td>\n",
       "      <td>Undergraduate</td>\n",
       "      <td>...</td>\n",
       "      <td>Player</td>\n",
       "      <td>2023-09-01</td>\n",
       "      <td>2024-06-30</td>\n",
       "      <td>2025-03-03</td>\n",
       "      <td>2.5</td>\n",
       "      <td>3</td>\n",
       "      <td>2</td>\n",
       "      <td>2</td>\n",
       "      <td>0.6</td>\n",
       "      <td>30.1</td>\n",
       "    </tr>\n",
       "  </tbody>\n",
       "</table>\n",
       "<p>3 rows × 30 columns</p>\n",
       "</div>"
      ],
      "text/plain": [
       "  StudentID  Age Marital Status Employment Status  Gender  \\\n",
       "0      S001   22         Single         Part-time  Female   \n",
       "1      S001   22         Single         Part-time  Female   \n",
       "2      S001   22         Single         Part-time  Female   \n",
       "\n",
       "  Socioeconomic Status  Income Level Location District Education Level  ...  \\\n",
       "0               Middle         25000    Urban  Kampala   Undergraduate  ...   \n",
       "1               Middle         25000    Urban  Kampala   Undergraduate  ...   \n",
       "2               Middle         25000    Urban  Kampala   Undergraduate  ...   \n",
       "\n",
       "     Role  Start Date    End Date        Date Time Spent On Materials (Hours)  \\\n",
       "0  Player  2023-09-01  2024-06-30  2025-03-01                             2.5   \n",
       "1  Player  2023-09-01  2024-06-30  2025-03-02                             2.0   \n",
       "2  Player  2023-09-01  2024-06-30  2025-03-03                             2.5   \n",
       "\n",
       "  Forum Posts Instructor Messages Completed Assignments  \\\n",
       "0           3                   2                     2   \n",
       "1           2                   1                     2   \n",
       "2           3                   2                     2   \n",
       "\n",
       "  Time Spent On Forum (Hours)  PerformanceScore  \n",
       "0                         0.5              30.1  \n",
       "1                         0.3              29.9  \n",
       "2                         0.6              30.1  \n",
       "\n",
       "[3 rows x 30 columns]"
      ]
     },
     "execution_count": 12,
     "metadata": {},
     "output_type": "execute_result"
    }
   ],
   "source": [
    "merged_df.head(3)"
   ]
  },
  {
   "cell_type": "code",
   "execution_count": null,
   "id": "8fc195ab",
   "metadata": {},
   "outputs": [],
   "source": []
  },
  {
   "cell_type": "code",
   "execution_count": null,
   "id": "8081478f",
   "metadata": {},
   "outputs": [
    {
     "name": "stdout",
     "output_type": "stream",
     "text": [
      "Model trained successfully \n"
     ]
    }
   ],
   "source": [
    "from sklearn.model_selection import train_test_split\n",
    "from sklearn.ensemble import RandomForestRegressor\n",
    "from sklearn.preprocessing import LabelEncoder\n",
    "\n",
    "# Make a copy of the dataset\n",
    "df_enc = merged_df.copy()\n",
    "\n",
    "# Encode categorical columns\n",
    "categorical_cols = [\n",
    "    \"StudentID\",\n",
    "    \"Marital Status\",\n",
    "    \"Employment Status\",\n",
    "    \"Gender\",\n",
    "    \"Socioeconomic Status\",\n",
    "    \"Location\",\n",
    "    \"District\",\n",
    "    \"Education Level\",\n",
    "    \"Javascript\",\n",
    "    \"Python\",\n",
    "    \"HCD\",\n",
    "    \"Communication\",\n",
    "    \"Course Completion\",\n",
    "    \"Activity\",\n",
    "    \"Participation Status\",\n",
    "    \"Role\",\n",
    "    \"Start Date\",\n",
    "    \"End Date\",\n",
    "    \"Date\"\n",
    "]\n",
    "\n",
    "label_encoders = {}  \n",
    "for col in categorical_cols:\n",
    "    le = LabelEncoder()\n",
    "    df_enc[col] = le.fit_transform(df_enc[col].astype(str))  # convert to string just in case of NaN\n",
    "    label_encoders[col] = le\n",
    "\n",
    "# Define features (X) and target (y)\n",
    "X = df_enc.drop([\"PerformanceScore\", \"StudentID\"], axis=1)\n",
    "y = df_enc[\"PerformanceScore\"]\n",
    "\n",
    "# Train-test split\n",
    "X_train, X_test, y_train, y_test = train_test_split(X, y, test_size=0.2, random_state=42)\n",
    "\n",
    "# Fit Random Forest model\n",
    "model = RandomForestRegressor(n_estimators=100, random_state=42)\n",
    "model.fit(X_train, y_train)\n",
    "\n",
    "print(\"Model trained successfully \")\n"
   ]
  },
  {
   "cell_type": "code",
   "execution_count": 14,
   "id": "3c354032",
   "metadata": {},
   "outputs": [
    {
     "name": "stdout",
     "output_type": "stream",
     "text": [
      "Original Score: 27.75\n",
      "New Score (10 hours): 27.75\n",
      "Change: 0.00\n"
     ]
    },
    {
     "name": "stderr",
     "output_type": "stream",
     "text": [
      "c:\\Users\\RA_CT\\.virtualenvs\\studentRefactory-gVnWJt6L\\Lib\\site-packages\\sklearn\\utils\\validation.py:2749: UserWarning: X does not have valid feature names, but RandomForestRegressor was fitted with feature names\n",
      "  warnings.warn(\n",
      "c:\\Users\\RA_CT\\.virtualenvs\\studentRefactory-gVnWJt6L\\Lib\\site-packages\\sklearn\\utils\\validation.py:2749: UserWarning: X does not have valid feature names, but RandomForestRegressor was fitted with feature names\n",
      "  warnings.warn(\n"
     ]
    }
   ],
   "source": [
    "sample = X_test.iloc[0].copy()\n",
    "\n",
    "# Original prediction\n",
    "pred_old = model.predict([sample])[0]\n",
    "\n",
    "# Modify Hours Per Week\n",
    "sample[\"Hours Per Week\"] = 10\n",
    "pred_new = model.predict([sample])[0]\n",
    "\n",
    "print(f\"Original Score: {pred_old:.2f}\")\n",
    "print(f\"New Score (10 hours): {pred_new:.2f}\")\n",
    "print(f\"Change: {pred_new - pred_old:.2f}\")\n"
   ]
  },
  {
   "cell_type": "code",
   "execution_count": 15,
   "id": "4ea63fda",
   "metadata": {},
   "outputs": [
    {
     "name": "stderr",
     "output_type": "stream",
     "text": [
      "c:\\Users\\RA_CT\\.virtualenvs\\studentRefactory-gVnWJt6L\\Lib\\site-packages\\tqdm\\auto.py:21: TqdmWarning: IProgress not found. Please update jupyter and ipywidgets. See https://ipywidgets.readthedocs.io/en/stable/user_install.html\n",
      "  from .autonotebook import tqdm as notebook_tqdm\n",
      "Matplotlib is building the font cache; this may take a moment.\n"
     ]
    },
    {
     "data": {
      "application/vnd.plotly.v1+json": {
       "config": {
        "plotlyServerURL": "https://plot.ly"
       },
       "data": [
        {
         "marker": {
          "color": [
           "red",
           "red",
           "red",
           "green",
           "green",
           "green",
           "green",
           "green",
           "green",
           "green",
           "green",
           "red",
           "red",
           "red",
           "green",
           "green",
           "red",
           "red",
           "red",
           "green",
           "red",
           "red",
           "green",
           "red",
           "red",
           "red",
           "red",
           "red"
          ]
         },
         "orientation": "h",
         "type": "bar",
         "x": {
          "bdata": "dpC4iSVrob/AZEyro4ghv47rbkk5Lpm/AKCfTjRUFj/kwRGk+TdvPxr6BB/Xtdc/1DRzk8zdlT8gxF0ah0iIP+jFuelldFs/ZJTAe5FXZz+2IEnH1y6lP9hHqXg0edC/f1go9kL5f79LlxjQECOUv9DhqrhqXJk/eTanQ/HT4z/NC4JWNL2Qv4VEez5KkY6/DlMYaklQg7/AOHc3GdQjP1MCRI6+s62/ouohKJ3anr8YTt8fcyRSP4f2Gg5ojrG/5JeML8zsrb+YK13jPwuXv9HQB0MPerC/zZbG4I+4jL8=",
          "dtype": "f8"
         },
         "y": [
          "Age",
          "Marital Status",
          "Employment Status",
          "Gender",
          "Socioeconomic Status",
          "Income Level",
          "Location",
          "District",
          "Education Level",
          "Number Of Children",
          "Attendance %",
          "Javascript",
          "Python",
          "HCD",
          "Communication",
          "Course Completion",
          "Activity",
          "Participation Status",
          "Hours Per Week",
          "Role",
          "Start Date",
          "End Date",
          "Date",
          "Time Spent On Materials (Hours)",
          "Forum Posts",
          "Instructor Messages",
          "Completed Assignments",
          "Time Spent On Forum (Hours)"
         ]
        }
       ],
       "layout": {
        "template": {
         "data": {
          "bar": [
           {
            "error_x": {
             "color": "#2a3f5f"
            },
            "error_y": {
             "color": "#2a3f5f"
            },
            "marker": {
             "line": {
              "color": "#E5ECF6",
              "width": 0.5
             },
             "pattern": {
              "fillmode": "overlay",
              "size": 10,
              "solidity": 0.2
             }
            },
            "type": "bar"
           }
          ],
          "barpolar": [
           {
            "marker": {
             "line": {
              "color": "#E5ECF6",
              "width": 0.5
             },
             "pattern": {
              "fillmode": "overlay",
              "size": 10,
              "solidity": 0.2
             }
            },
            "type": "barpolar"
           }
          ],
          "carpet": [
           {
            "aaxis": {
             "endlinecolor": "#2a3f5f",
             "gridcolor": "white",
             "linecolor": "white",
             "minorgridcolor": "white",
             "startlinecolor": "#2a3f5f"
            },
            "baxis": {
             "endlinecolor": "#2a3f5f",
             "gridcolor": "white",
             "linecolor": "white",
             "minorgridcolor": "white",
             "startlinecolor": "#2a3f5f"
            },
            "type": "carpet"
           }
          ],
          "choropleth": [
           {
            "colorbar": {
             "outlinewidth": 0,
             "ticks": ""
            },
            "type": "choropleth"
           }
          ],
          "contour": [
           {
            "colorbar": {
             "outlinewidth": 0,
             "ticks": ""
            },
            "colorscale": [
             [
              0,
              "#0d0887"
             ],
             [
              0.1111111111111111,
              "#46039f"
             ],
             [
              0.2222222222222222,
              "#7201a8"
             ],
             [
              0.3333333333333333,
              "#9c179e"
             ],
             [
              0.4444444444444444,
              "#bd3786"
             ],
             [
              0.5555555555555556,
              "#d8576b"
             ],
             [
              0.6666666666666666,
              "#ed7953"
             ],
             [
              0.7777777777777778,
              "#fb9f3a"
             ],
             [
              0.8888888888888888,
              "#fdca26"
             ],
             [
              1,
              "#f0f921"
             ]
            ],
            "type": "contour"
           }
          ],
          "contourcarpet": [
           {
            "colorbar": {
             "outlinewidth": 0,
             "ticks": ""
            },
            "type": "contourcarpet"
           }
          ],
          "heatmap": [
           {
            "colorbar": {
             "outlinewidth": 0,
             "ticks": ""
            },
            "colorscale": [
             [
              0,
              "#0d0887"
             ],
             [
              0.1111111111111111,
              "#46039f"
             ],
             [
              0.2222222222222222,
              "#7201a8"
             ],
             [
              0.3333333333333333,
              "#9c179e"
             ],
             [
              0.4444444444444444,
              "#bd3786"
             ],
             [
              0.5555555555555556,
              "#d8576b"
             ],
             [
              0.6666666666666666,
              "#ed7953"
             ],
             [
              0.7777777777777778,
              "#fb9f3a"
             ],
             [
              0.8888888888888888,
              "#fdca26"
             ],
             [
              1,
              "#f0f921"
             ]
            ],
            "type": "heatmap"
           }
          ],
          "histogram": [
           {
            "marker": {
             "pattern": {
              "fillmode": "overlay",
              "size": 10,
              "solidity": 0.2
             }
            },
            "type": "histogram"
           }
          ],
          "histogram2d": [
           {
            "colorbar": {
             "outlinewidth": 0,
             "ticks": ""
            },
            "colorscale": [
             [
              0,
              "#0d0887"
             ],
             [
              0.1111111111111111,
              "#46039f"
             ],
             [
              0.2222222222222222,
              "#7201a8"
             ],
             [
              0.3333333333333333,
              "#9c179e"
             ],
             [
              0.4444444444444444,
              "#bd3786"
             ],
             [
              0.5555555555555556,
              "#d8576b"
             ],
             [
              0.6666666666666666,
              "#ed7953"
             ],
             [
              0.7777777777777778,
              "#fb9f3a"
             ],
             [
              0.8888888888888888,
              "#fdca26"
             ],
             [
              1,
              "#f0f921"
             ]
            ],
            "type": "histogram2d"
           }
          ],
          "histogram2dcontour": [
           {
            "colorbar": {
             "outlinewidth": 0,
             "ticks": ""
            },
            "colorscale": [
             [
              0,
              "#0d0887"
             ],
             [
              0.1111111111111111,
              "#46039f"
             ],
             [
              0.2222222222222222,
              "#7201a8"
             ],
             [
              0.3333333333333333,
              "#9c179e"
             ],
             [
              0.4444444444444444,
              "#bd3786"
             ],
             [
              0.5555555555555556,
              "#d8576b"
             ],
             [
              0.6666666666666666,
              "#ed7953"
             ],
             [
              0.7777777777777778,
              "#fb9f3a"
             ],
             [
              0.8888888888888888,
              "#fdca26"
             ],
             [
              1,
              "#f0f921"
             ]
            ],
            "type": "histogram2dcontour"
           }
          ],
          "mesh3d": [
           {
            "colorbar": {
             "outlinewidth": 0,
             "ticks": ""
            },
            "type": "mesh3d"
           }
          ],
          "parcoords": [
           {
            "line": {
             "colorbar": {
              "outlinewidth": 0,
              "ticks": ""
             }
            },
            "type": "parcoords"
           }
          ],
          "pie": [
           {
            "automargin": true,
            "type": "pie"
           }
          ],
          "scatter": [
           {
            "fillpattern": {
             "fillmode": "overlay",
             "size": 10,
             "solidity": 0.2
            },
            "type": "scatter"
           }
          ],
          "scatter3d": [
           {
            "line": {
             "colorbar": {
              "outlinewidth": 0,
              "ticks": ""
             }
            },
            "marker": {
             "colorbar": {
              "outlinewidth": 0,
              "ticks": ""
             }
            },
            "type": "scatter3d"
           }
          ],
          "scattercarpet": [
           {
            "marker": {
             "colorbar": {
              "outlinewidth": 0,
              "ticks": ""
             }
            },
            "type": "scattercarpet"
           }
          ],
          "scattergeo": [
           {
            "marker": {
             "colorbar": {
              "outlinewidth": 0,
              "ticks": ""
             }
            },
            "type": "scattergeo"
           }
          ],
          "scattergl": [
           {
            "marker": {
             "colorbar": {
              "outlinewidth": 0,
              "ticks": ""
             }
            },
            "type": "scattergl"
           }
          ],
          "scattermap": [
           {
            "marker": {
             "colorbar": {
              "outlinewidth": 0,
              "ticks": ""
             }
            },
            "type": "scattermap"
           }
          ],
          "scattermapbox": [
           {
            "marker": {
             "colorbar": {
              "outlinewidth": 0,
              "ticks": ""
             }
            },
            "type": "scattermapbox"
           }
          ],
          "scatterpolar": [
           {
            "marker": {
             "colorbar": {
              "outlinewidth": 0,
              "ticks": ""
             }
            },
            "type": "scatterpolar"
           }
          ],
          "scatterpolargl": [
           {
            "marker": {
             "colorbar": {
              "outlinewidth": 0,
              "ticks": ""
             }
            },
            "type": "scatterpolargl"
           }
          ],
          "scatterternary": [
           {
            "marker": {
             "colorbar": {
              "outlinewidth": 0,
              "ticks": ""
             }
            },
            "type": "scatterternary"
           }
          ],
          "surface": [
           {
            "colorbar": {
             "outlinewidth": 0,
             "ticks": ""
            },
            "colorscale": [
             [
              0,
              "#0d0887"
             ],
             [
              0.1111111111111111,
              "#46039f"
             ],
             [
              0.2222222222222222,
              "#7201a8"
             ],
             [
              0.3333333333333333,
              "#9c179e"
             ],
             [
              0.4444444444444444,
              "#bd3786"
             ],
             [
              0.5555555555555556,
              "#d8576b"
             ],
             [
              0.6666666666666666,
              "#ed7953"
             ],
             [
              0.7777777777777778,
              "#fb9f3a"
             ],
             [
              0.8888888888888888,
              "#fdca26"
             ],
             [
              1,
              "#f0f921"
             ]
            ],
            "type": "surface"
           }
          ],
          "table": [
           {
            "cells": {
             "fill": {
              "color": "#EBF0F8"
             },
             "line": {
              "color": "white"
             }
            },
            "header": {
             "fill": {
              "color": "#C8D4E3"
             },
             "line": {
              "color": "white"
             }
            },
            "type": "table"
           }
          ]
         },
         "layout": {
          "annotationdefaults": {
           "arrowcolor": "#2a3f5f",
           "arrowhead": 0,
           "arrowwidth": 1
          },
          "autotypenumbers": "strict",
          "coloraxis": {
           "colorbar": {
            "outlinewidth": 0,
            "ticks": ""
           }
          },
          "colorscale": {
           "diverging": [
            [
             0,
             "#8e0152"
            ],
            [
             0.1,
             "#c51b7d"
            ],
            [
             0.2,
             "#de77ae"
            ],
            [
             0.3,
             "#f1b6da"
            ],
            [
             0.4,
             "#fde0ef"
            ],
            [
             0.5,
             "#f7f7f7"
            ],
            [
             0.6,
             "#e6f5d0"
            ],
            [
             0.7,
             "#b8e186"
            ],
            [
             0.8,
             "#7fbc41"
            ],
            [
             0.9,
             "#4d9221"
            ],
            [
             1,
             "#276419"
            ]
           ],
           "sequential": [
            [
             0,
             "#0d0887"
            ],
            [
             0.1111111111111111,
             "#46039f"
            ],
            [
             0.2222222222222222,
             "#7201a8"
            ],
            [
             0.3333333333333333,
             "#9c179e"
            ],
            [
             0.4444444444444444,
             "#bd3786"
            ],
            [
             0.5555555555555556,
             "#d8576b"
            ],
            [
             0.6666666666666666,
             "#ed7953"
            ],
            [
             0.7777777777777778,
             "#fb9f3a"
            ],
            [
             0.8888888888888888,
             "#fdca26"
            ],
            [
             1,
             "#f0f921"
            ]
           ],
           "sequentialminus": [
            [
             0,
             "#0d0887"
            ],
            [
             0.1111111111111111,
             "#46039f"
            ],
            [
             0.2222222222222222,
             "#7201a8"
            ],
            [
             0.3333333333333333,
             "#9c179e"
            ],
            [
             0.4444444444444444,
             "#bd3786"
            ],
            [
             0.5555555555555556,
             "#d8576b"
            ],
            [
             0.6666666666666666,
             "#ed7953"
            ],
            [
             0.7777777777777778,
             "#fb9f3a"
            ],
            [
             0.8888888888888888,
             "#fdca26"
            ],
            [
             1,
             "#f0f921"
            ]
           ]
          },
          "colorway": [
           "#636efa",
           "#EF553B",
           "#00cc96",
           "#ab63fa",
           "#FFA15A",
           "#19d3f3",
           "#FF6692",
           "#B6E880",
           "#FF97FF",
           "#FECB52"
          ],
          "font": {
           "color": "#2a3f5f"
          },
          "geo": {
           "bgcolor": "white",
           "lakecolor": "white",
           "landcolor": "#E5ECF6",
           "showlakes": true,
           "showland": true,
           "subunitcolor": "white"
          },
          "hoverlabel": {
           "align": "left"
          },
          "hovermode": "closest",
          "mapbox": {
           "style": "light"
          },
          "paper_bgcolor": "white",
          "plot_bgcolor": "#E5ECF6",
          "polar": {
           "angularaxis": {
            "gridcolor": "white",
            "linecolor": "white",
            "ticks": ""
           },
           "bgcolor": "#E5ECF6",
           "radialaxis": {
            "gridcolor": "white",
            "linecolor": "white",
            "ticks": ""
           }
          },
          "scene": {
           "xaxis": {
            "backgroundcolor": "#E5ECF6",
            "gridcolor": "white",
            "gridwidth": 2,
            "linecolor": "white",
            "showbackground": true,
            "ticks": "",
            "zerolinecolor": "white"
           },
           "yaxis": {
            "backgroundcolor": "#E5ECF6",
            "gridcolor": "white",
            "gridwidth": 2,
            "linecolor": "white",
            "showbackground": true,
            "ticks": "",
            "zerolinecolor": "white"
           },
           "zaxis": {
            "backgroundcolor": "#E5ECF6",
            "gridcolor": "white",
            "gridwidth": 2,
            "linecolor": "white",
            "showbackground": true,
            "ticks": "",
            "zerolinecolor": "white"
           }
          },
          "shapedefaults": {
           "line": {
            "color": "#2a3f5f"
           }
          },
          "ternary": {
           "aaxis": {
            "gridcolor": "white",
            "linecolor": "white",
            "ticks": ""
           },
           "baxis": {
            "gridcolor": "white",
            "linecolor": "white",
            "ticks": ""
           },
           "bgcolor": "#E5ECF6",
           "caxis": {
            "gridcolor": "white",
            "linecolor": "white",
            "ticks": ""
           }
          },
          "title": {
           "x": 0.05
          },
          "xaxis": {
           "automargin": true,
           "gridcolor": "white",
           "linecolor": "white",
           "ticks": "",
           "title": {
            "standoff": 15
           },
           "zerolinecolor": "white",
           "zerolinewidth": 2
          },
          "yaxis": {
           "automargin": true,
           "gridcolor": "white",
           "linecolor": "white",
           "ticks": "",
           "title": {
            "standoff": 15
           },
           "zerolinecolor": "white",
           "zerolinewidth": 2
          }
         }
        },
        "title": {
         "text": "SHAP Feature Impact (Student 0)"
        },
        "xaxis": {
         "title": {
          "text": "Impact on Performance Score"
         }
        },
        "yaxis": {
         "title": {
          "text": "Features"
         }
        }
       }
      }
     },
     "metadata": {},
     "output_type": "display_data"
    }
   ],
   "source": [
    "import shap\n",
    "import plotly.graph_objects as go\n",
    "\n",
    "explainer = shap.TreeExplainer(model)\n",
    "shap_values = explainer.shap_values(X_test)\n",
    "\n",
    "# Take first student\n",
    "student = X_test.iloc[0]\n",
    "shap_vals = shap_values[0]\n",
    "\n",
    "# Create Plotly bar chart of feature impacts\n",
    "fig_shap = go.Figure([\n",
    "    go.Bar(\n",
    "        x=shap_vals,\n",
    "        y=student.index,\n",
    "        orientation=\"h\",\n",
    "        marker=dict(color=[\"red\" if v < 0 else \"green\" for v in shap_vals])\n",
    "    )\n",
    "])\n",
    "fig_shap.update_layout(\n",
    "    title=\"SHAP Feature Impact (Student 0)\",\n",
    "    xaxis_title=\"Impact on Performance Score\",\n",
    "    yaxis_title=\"Features\"\n",
    ")\n",
    "fig_shap.show()\n"
   ]
  },
  {
   "cell_type": "code",
   "execution_count": 16,
   "id": "79944ca1",
   "metadata": {},
   "outputs": [
    {
     "data": {
      "text/plain": [
       "['student_performance_model.pkl']"
      ]
     },
     "execution_count": 16,
     "metadata": {},
     "output_type": "execute_result"
    }
   ],
   "source": [
    "import joblib\n",
    "joblib.dump(model, \"student_performance_model.pkl\")\n"
   ]
  },
  {
   "cell_type": "code",
   "execution_count": 17,
   "id": "3549efe8",
   "metadata": {},
   "outputs": [
    {
     "data": {
      "text/plain": [
       "['label_encoders.pkl']"
      ]
     },
     "execution_count": 17,
     "metadata": {},
     "output_type": "execute_result"
    }
   ],
   "source": [
    "import joblib\n",
    "\n",
    "# Save the dictionary of LabelEncoders\n",
    "joblib.dump(label_encoders, \"label_encoders.pkl\")\n"
   ]
  },
  {
   "cell_type": "code",
   "execution_count": null,
   "id": "94adc891",
   "metadata": {},
   "outputs": [],
   "source": []
  }
 ],
 "metadata": {
  "kernelspec": {
   "display_name": "Python 3",
   "language": "python",
   "name": "python3"
  },
  "language_info": {
   "codemirror_mode": {
    "name": "ipython",
    "version": 3
   },
   "file_extension": ".py",
   "mimetype": "text/x-python",
   "name": "python",
   "nbconvert_exporter": "python",
   "pygments_lexer": "ipython3",
   "version": "3.13.5"
  }
 },
 "nbformat": 4,
 "nbformat_minor": 5
}
